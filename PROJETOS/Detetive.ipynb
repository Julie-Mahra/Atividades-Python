{
  "nbformat": 4,
  "nbformat_minor": 0,
  "metadata": {
    "colab": {
      "name": "Detetive.ipynb",
      "provenance": [],
      "collapsed_sections": []
    },
    "kernelspec": {
      "name": "python3",
      "display_name": "Python 3"
    },
    "language_info": {
      "name": "python"
    }
  },
  "cells": [
    {
      "cell_type": "code",
      "metadata": {
        "id": "Y4MFr6JgKLlo"
      },
      "source": [
        "\n",
        "suspeita = 0\n",
        "\n",
        "pergunta01      =   input(\"\\nVocê entrou em contato com a vítima?[S/N]\").upper()\n",
        "if pergunta01[0]==  'S':\n",
        "  suspeita      +=  1\n",
        "\n",
        "pergunta02      =   input(\"\\nVocê esteve no local do crime?[S/N]\").upper()\n",
        "if  pergunta02[0]  =='S':\n",
        "  suspeita    +=  1\n",
        "\n",
        "pergunta03      =   input(\"\\nVocê mora próximo à vítima?[S/N]\").upper()\n",
        "if  pergunta03[0]  ==  'S':\n",
        "  suspeita    +=  1\n",
        "\n",
        "\n",
        "pergunta04      =   input(\"\\nVocê devia para a vítima?[S/N]\").upper()\n",
        "if  pergunta04[0]  ==  'S':\n",
        "  suspeita    +=  1\n",
        "\n",
        "\n",
        "pergunta05      =   input(\"\\nVocê já trabalhou com a vítima?[S/N]\").upper()\n",
        "if  pergunta05[0]  ==  'S':\n",
        "    suspeita    +=  1\n",
        "\n",
        "if suspeita == 2:\n",
        "    print('\\nEssa pessoa é suspeito.')\n",
        "elif 3 <= suspeita <= 4:\n",
        "    print('\\nVocê nos parece ser um cúmplice.')\n",
        "elif suspeita >= 5:\n",
        "    print('\\nVocê está preso por assassinato.')\n",
        "else:\n",
        "    print('\\nAinda não temos um suspeito, esse cara é inocente.')\n",
        "\n",
        "suspeita = 0\n",
        "            "
      ],
      "execution_count": null,
      "outputs": []
    }
  ]
}