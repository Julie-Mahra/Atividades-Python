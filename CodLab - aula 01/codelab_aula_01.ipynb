{
  "nbformat": 4,
  "nbformat_minor": 0,
  "metadata": {
    "colab": {
      "name": "codelab aula 01.ipynb",
      "provenance": [],
      "collapsed_sections": []
    },
    "kernelspec": {
      "name": "python3",
      "display_name": "Python 3"
    },
    "language_info": {
      "name": "python"
    }
  },
  "cells": [
    {
      "cell_type": "code",
      "metadata": {
        "colab": {
          "base_uri": "https://localhost:8080/"
        },
        "id": "0enJFwly9Fwm",
        "outputId": "f578fb78-3801-40f8-bc6a-3db88aa9964e"
      },
      "source": [
        "print('O primeiro programa a gente nunca esquece!')"
      ],
      "execution_count": null,
      "outputs": [
        {
          "output_type": "stream",
          "text": [
            "O primeiro programa a gente nunca esquece!\n"
          ],
          "name": "stdout"
        }
      ]
    },
    {
      "cell_type": "code",
      "metadata": {
        "colab": {
          "base_uri": "https://localhost:8080/"
        },
        "id": "dm8EUmeW9k3L",
        "outputId": "2e29df2f-c66c-44e1-9c6b-3ea36026d693"
      },
      "source": [
        "nome = ('Juliana Mara Dos Santos')\n",
        "Endereço = ('FNC - 534')\n",
        "CEP = ('32185-040')\n",
        "Telefone = ('31 9.7365-2940')\n",
        "print(nome)\n",
        "print(Endereço)\n",
        "print(CEP)\n",
        "print(Telefone)"
      ],
      "execution_count": null,
      "outputs": [
        {
          "output_type": "stream",
          "text": [
            "Juliana Mara Dos Santos\n",
            "FNC - 534\n",
            "32185-040\n",
            "31 9.7365-2940\n"
          ],
          "name": "stdout"
        }
      ]
    },
    {
      "cell_type": "code",
      "metadata": {
        "colab": {
          "base_uri": "https://localhost:8080/"
        },
        "id": "lCg9yFasASyz",
        "outputId": "01e173b9-6371-4f70-9cf8-8a0b8870ec22"
      },
      "source": [
        "print('Na Nossa Casa - Paralamas do Sucesso')\n",
        "print('')\n",
        "print('Quando anoiteceu')\n",
        "print('Nenhuma luz na nossa casa se acendeu')\n",
        "print('Aonde você estava? Aonde estava eu?')\n",
        "print('')\n",
        "print('Se tudo parecia nada, ainda assim')\n",
        "print('O nada era mais do que o que você deixou, No fim.')\n",
        "print('Quando aconteceu?')\n",
        "print('Quando algo em que a gente acreditava, se perdeu?')\n",
        "print('Por onde você andava? Por que não me socorreu?')\n",
        "print('')\n",
        "print('Não é o fim do mundo')\n",
        "print('É só o fim de tudo que fomos nós')\n",
        "print('Sem flutuar e sem tocar o fundo')\n",
        "print('Sempre sós.')\n"
      ],
      "execution_count": null,
      "outputs": [
        {
          "output_type": "stream",
          "text": [
            "Na Nossa Casa - Paralamas do Sucesso\n",
            "\n",
            "Quando anoiteceu\n",
            "Nenhuma luz na nossa casa se acendeu\n",
            "Aonde você estava? Aonde estava eu?\n",
            "\n",
            "Se tudo parecia nada, ainda assim\n",
            "O nada era mais do que o que você deixou, No fim.\n",
            "Quando aconteceu?\n",
            "Quando algo em que a gente acreditava, se perdeu?\n",
            "Por onde você andava? Por que não me socorreu?\n",
            "\n",
            "Não é o fim do mundo\n",
            "É só o fim de tudo que fomos nós\n",
            "Sem flutuar e sem tocar o fundo\n",
            "Sempre sós.\n"
          ],
          "name": "stdout"
        }
      ]
    },
    {
      "cell_type": "code",
      "metadata": {
        "colab": {
          "base_uri": "https://localhost:8080/"
        },
        "id": "F69TdSdj595k",
        "outputId": "1ad87726-da1f-48ab-fcdb-f900e93c6aee"
      },
      "source": [
        "print('''\n",
        "\n",
        "Quando anoiteceu\n",
        "Nenhuma luz na nossa casa se acendeu\n",
        "Aonde você estava? Aonde estava eu?\n",
        "\n",
        "Se tudo parecia nada, ainda assim\n",
        "O nada era mais do que o que você deixou, No fim.\n",
        "Quando aconteceu?\n",
        "Quando algo em que a gente acreditava, se perdeu?\n",
        "Por onde você andava? Por que não me socorreu?\n",
        "\n",
        "Não é o fim do mundo\n",
        "É só o fim de tudo que fomos nós\n",
        "Sem flutuar e sem tocar o fundo\n",
        "Sempre sós.\n",
        "''')"
      ],
      "execution_count": null,
      "outputs": [
        {
          "output_type": "stream",
          "text": [
            "\n",
            "\n",
            "Quando anoiteceu\n",
            "Nenhuma luz na nossa casa se acendeu\n",
            "Aonde você estava? Aonde estava eu?\n",
            "\n",
            "Se tudo parecia nada, ainda assim\n",
            "O nada era mais do que o que você deixou, No fim.\n",
            "Quando aconteceu?\n",
            "Quando algo em que a gente acreditava, se perdeu?\n",
            "Por onde você andava? Por que não me socorreu?\n",
            "\n",
            "Não é o fim do mundo\n",
            "É só o fim de tudo que fomos nós\n",
            "Sem flutuar e sem tocar o fundo\n",
            "Sempre sós.\n",
            "\n"
          ],
          "name": "stdout"
        }
      ]
    },
    {
      "cell_type": "code",
      "metadata": {
        "colab": {
          "base_uri": "https://localhost:8080/"
        },
        "id": "D2_vgDNZEKV-",
        "outputId": "0dafe8b7-67e6-46a0-9dab-562a08148007"
      },
      "source": [
        "print('''\n",
        "Aluno (a)     Notas\n",
        "==========    ======= \n",
        "ALINE         9.0\n",
        "MÁRIO         DEZ\n",
        "SÉRGIO        4.5\n",
        "SHIRLEY       7.0\n",
        "''')"
      ],
      "execution_count": null,
      "outputs": [
        {
          "output_type": "stream",
          "text": [
            "\n",
            "Aluno (a)     Notas\n",
            "==========    ======= \n",
            "ALINE         9.0\n",
            "MÁRIO         DEZ\n",
            "SÉRGIO        4.5\n",
            "SHIRLEY       7.0\n",
            "\n"
          ],
          "name": "stdout"
        }
      ]
    },
    {
      "cell_type": "code",
      "metadata": {
        "colab": {
          "base_uri": "https://localhost:8080/"
        },
        "id": "LRlknVDHKusL",
        "outputId": "9cff64f3-7e59-49dc-f530-640bcc295cfe"
      },
      "source": [
        "print('''\n",
        "Cadastro de Clientes\n",
        "0 - Fim\n",
        "1 - Inclui\n",
        "2 - Altera\n",
        "3 - Exclui\n",
        "4 - Consulta\n",
        "Digite uma opção: \n",
        "''')\n",
        "print(f\"Você escolheu a opção {'0'}\")\n"
      ],
      "execution_count": null,
      "outputs": [
        {
          "output_type": "stream",
          "text": [
            "\n",
            "Cadastro de Clientes\n",
            "0 - Fim\n",
            "1 - Inclui\n",
            "2 - Altera\n",
            "3 - Exclui\n",
            "4 - Consulta\n",
            "Digite uma opção: \n",
            "\n",
            "Você escolheu a opção 0\n"
          ],
          "name": "stdout"
        }
      ]
    },
    {
      "cell_type": "code",
      "metadata": {
        "id": "E2r6IinXVNpN"
      },
      "source": [
        ""
      ],
      "execution_count": null,
      "outputs": []
    },
    {
      "cell_type": "code",
      "metadata": {
        "colab": {
          "base_uri": "https://localhost:8080/"
        },
        "id": "QpzT8vQ-WEqP",
        "outputId": "ba30d713-21a9-44a2-e4f9-efe38d5fc510"
      },
      "source": [
        "n1 = 42.54\n",
        "n2 = 10/100\n",
        "mod = n1 + (n1 * n2)\n",
        "print(f'R$ {mod:.2f}') \n"
      ],
      "execution_count": null,
      "outputs": [
        {
          "output_type": "stream",
          "text": [
            "R$ 46.79\n"
          ],
          "name": "stdout"
        }
      ]
    },
    {
      "cell_type": "code",
      "metadata": {
        "colab": {
          "base_uri": "https://localhost:8080/"
        },
        "id": "V4tZXqdWa2wc",
        "outputId": "380b2749-a712-4c2d-bed8-59b11f81aa92"
      },
      "source": [
        "n1 = 100.98\n",
        "n2 = 150.00 \n",
        "sub = n2 - n1 \n",
        "print(f'R$ {sub:.0f}') \n",
        "\n"
      ],
      "execution_count": null,
      "outputs": [
        {
          "output_type": "stream",
          "text": [
            "R$ 49\n"
          ],
          "name": "stdout"
        }
      ]
    },
    {
      "cell_type": "code",
      "metadata": {
        "colab": {
          "base_uri": "https://localhost:8080/"
        },
        "id": "c1Isj7uucBFv",
        "outputId": "972e2db7-b357-4d85-a168-e0c421e61b27"
      },
      "source": [
        "anoNasc = int(input('Digite seu ano de Nascimento: ')) \n",
        "anoAtual = int(input('Digite o ano atual: ')) \n",
        "sub = anoAtual - anoNasc\n",
        "print(f'a idade é: {sub} anos. \\n Você está na flor da idade!') ta ok"
      ],
      "execution_count": null,
      "outputs": [
        {
          "output_type": "stream",
          "text": [
            "Digite seu ano de Nascimento: 1987\n",
            "Digite o ano atual: 2021\n",
            "a idade é: 34 anos. \n",
            " Você está na flor da idade!\n"
          ],
          "name": "stdout"
        }
      ]
    },
    {
      "cell_type": "code",
      "metadata": {
        "colab": {
          "base_uri": "https://localhost:8080/",
          "height": 231
        },
        "id": "JAtmNOWNjcuq",
        "outputId": "eed48646-86ed-458b-87dc-b0f486aed84c"
      },
      "source": [
        "from math import ceil\n",
        "vida_monstro = int(input(\"digite o número 40 que é a vida de um monstro:\"))\n",
        "valor_ataque = int(input(\"digite o número 5 que é ataque por turnos:\"))\n",
        "turnos = (vida_monstro / valor_ataque)\n",
        " "
      ],
      "execution_count": null,
      "outputs": [
        {
          "output_type": "stream",
          "text": [
            "digite o número 40 que é a vida de um monstro:40\n",
            "digite o número 5 que é ataque por turnos:5\n"
          ],
          "name": "stdout"
        },
        {
          "output_type": "error",
          "ename": "TypeError",
          "evalue": "ignored",
          "traceback": [
            "\u001b[0;31m---------------------------------------------------------------------------\u001b[0m",
            "\u001b[0;31mTypeError\u001b[0m                                 Traceback (most recent call last)",
            "\u001b[0;32m<ipython-input-25-62a50e31e055>\u001b[0m in \u001b[0;36m<module>\u001b[0;34m()\u001b[0m\n\u001b[1;32m      3\u001b[0m \u001b[0mvalor_ataque\u001b[0m \u001b[0;34m=\u001b[0m \u001b[0mint\u001b[0m\u001b[0;34m(\u001b[0m\u001b[0minput\u001b[0m\u001b[0;34m(\u001b[0m\u001b[0;34m\"digite o número 5 que é ataque por turnos:\"\u001b[0m\u001b[0;34m)\u001b[0m\u001b[0;34m)\u001b[0m\u001b[0;34m\u001b[0m\u001b[0;34m\u001b[0m\u001b[0m\n\u001b[1;32m      4\u001b[0m \u001b[0mturnos\u001b[0m \u001b[0;34m=\u001b[0m \u001b[0;34m(\u001b[0m\u001b[0mvida_monstro\u001b[0m \u001b[0;34m/\u001b[0m \u001b[0mvalor_ataque\u001b[0m\u001b[0;34m)\u001b[0m\u001b[0;34m\u001b[0m\u001b[0;34m\u001b[0m\u001b[0m\n\u001b[0;32m----> 5\u001b[0;31m \u001b[0mprint\u001b[0m\u001b[0;34m(\u001b[0m\u001b[0;34mf'serao necessarios{turnos} turnos.'\u001b[0m\u001b[0;34m)\u001b[0m\u001b[0;34m\u001b[0m\u001b[0;34m\u001b[0m\u001b[0m\n\u001b[0m",
            "\u001b[0;31mTypeError\u001b[0m: 'str' object is not callable"
          ]
        }
      ]
    },
    {
      "cell_type": "code",
      "metadata": {
        "id": "c-pyto8h1Vbz"
      },
      "source": [
        "# mini projeto 01\n",
        "\n",
        "valor = int(input('informe o valor em REAL'))\n"
      ],
      "execution_count": null,
      "outputs": []
    },
    {
      "cell_type": "code",
      "metadata": {
        "id": "RzvyeZ9U4TqX"
      },
      "source": [
        "# mini projeto 02\n"
      ],
      "execution_count": null,
      "outputs": []
    },
    {
      "cell_type": "code",
      "metadata": {
        "id": "YuHzl-0C4X2c"
      },
      "source": [
        "# cauculadora de aumento aluguel"
      ],
      "execution_count": null,
      "outputs": []
    }
  ]
}